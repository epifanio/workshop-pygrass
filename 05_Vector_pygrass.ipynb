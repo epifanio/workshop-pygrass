{
 "metadata": {
  "name": "",
  "signature": "sha256:fc692f1f35c2ad4095ea969cce84f5584c90bf50e7a98634f3ed8823d219d6b8"
 },
 "nbformat": 3,
 "nbformat_minor": 0,
 "worksheets": [
  {
   "cells": [
    {
     "cell_type": "heading",
     "level": 1,
     "metadata": {},
     "source": [
      "Vector Map"
     ]
    },
    {
     "cell_type": "markdown",
     "metadata": {},
     "source": [
      "The pygrass interface for raster maps is divided in 2 classes that represent different ways to interact with vector.\n",
      "\n",
      "The <a href\"http://grass.osgeo.org/grass71/manuals/libpython/pygrass.vector.html#pygrass.vector.Vector\" target=\"_blank\"><b>Vector</b></a> class it is used to work with vector data *without topology*\n",
      "\n",
      "The <a href\"http://grass.osgeo.org/grass71/manuals/libpython/pygrass.vector.html#pygrass.vector.VectorTopo\" target=\"_blank\"><b>VectorTopo</b></a> class instead it is used to work with vector data *with topology*; **this is the class that you should use in most of the case**\n",
      "\n",
      "We can create a vector map with two approaches:\n",
      "\n",
      "1) write the vector in two steps:\n",
      "\n",
      "    a. write the geometry features of the vector map\n",
      "    b. write the values in the attribute table\n",
      "\n",
      "2) write the vector map, geometry features and tabel attrinute in one step"
     ]
    },
    {
     "cell_type": "heading",
     "level": 2,
     "metadata": {},
     "source": [
      "Write a vector map in two steps"
     ]
    },
    {
     "cell_type": "heading",
     "level": 3,
     "metadata": {},
     "source": [
      "Write the geometry features"
     ]
    },
    {
     "cell_type": "code",
     "collapsed": false,
     "input": [
      "from grass.pygrass.vector import VectorTopo\n",
      "from grass.pygrass.vector.geometry import Point"
     ],
     "language": "python",
     "metadata": {},
     "outputs": []
    },
    {
     "cell_type": "code",
     "collapsed": false,
     "input": [
      "new = VectorTopo('newvect')"
     ],
     "language": "python",
     "metadata": {},
     "outputs": []
    },
    {
     "cell_type": "code",
     "collapsed": false,
     "input": [
      "new.open('w')"
     ],
     "language": "python",
     "metadata": {},
     "outputs": []
    },
    {
     "cell_type": "markdown",
     "metadata": {},
     "source": [
      "Define some geometry features that will be add to the vector map"
     ]
    },
    {
     "cell_type": "code",
     "collapsed": false,
     "input": [
      "point0 = Point(636981.336043, 216517.602235)\n",
      "point1 = Point(637209.083058, 217970.129540)"
     ],
     "language": "python",
     "metadata": {},
     "outputs": []
    },
    {
     "cell_type": "markdown",
     "metadata": {},
     "source": [
      "Write the geometry to the vector map"
     ]
    },
    {
     "cell_type": "code",
     "collapsed": false,
     "input": [
      "new.write(point0)\n",
      "new.write(point1)"
     ],
     "language": "python",
     "metadata": {},
     "outputs": []
    },
    {
     "cell_type": "code",
     "collapsed": false,
     "input": [
      "new.close()"
     ],
     "language": "python",
     "metadata": {},
     "outputs": []
    },
    {
     "cell_type": "heading",
     "level": 3,
     "metadata": {},
     "source": [
      "Read the geometry features of the vector map"
     ]
    },
    {
     "cell_type": "code",
     "collapsed": false,
     "input": [
      "new.open('r')"
     ],
     "language": "python",
     "metadata": {},
     "outputs": []
    },
    {
     "cell_type": "code",
     "collapsed": false,
     "input": [
      "new[1]"
     ],
     "language": "python",
     "metadata": {},
     "outputs": []
    },
    {
     "cell_type": "code",
     "collapsed": false,
     "input": [
      "new[2]"
     ],
     "language": "python",
     "metadata": {},
     "outputs": []
    },
    {
     "cell_type": "code",
     "collapsed": false,
     "input": [
      "new[1].attrs  # No table attribute has been created yet"
     ],
     "language": "python",
     "metadata": {},
     "outputs": []
    },
    {
     "cell_type": "code",
     "collapsed": false,
     "input": [
      "new.close()"
     ],
     "language": "python",
     "metadata": {},
     "outputs": []
    },
    {
     "cell_type": "heading",
     "level": 3,
     "metadata": {},
     "source": [
      "Write the attribute values"
     ]
    },
    {
     "cell_type": "markdown",
     "metadata": {},
     "source": [
      "Create a connection with the database"
     ]
    },
    {
     "cell_type": "code",
     "collapsed": false,
     "input": [
      "from grass.pygrass.vector.table import Link\n",
      "\n",
      "# set the layer name\n",
      "new.layer = 1\n",
      "# create a Link object\n",
      "link = Link(layer=new.layer, name=new.name, table=new.name, key='cat',\n",
      "            database='$GISDBASE/$LOCATION_NAME/$MAPSET/sqlite/sqlite.db',\n",
      "            driver='sqlite')"
     ],
     "language": "python",
     "metadata": {},
     "outputs": []
    },
    {
     "cell_type": "markdown",
     "metadata": {},
     "source": [
      "Open the vector map in read and write mode to not loose the geometry features of the vector map"
     ]
    },
    {
     "cell_type": "code",
     "collapsed": false,
     "input": [
      "new.open('rw')"
     ],
     "language": "python",
     "metadata": {},
     "outputs": []
    },
    {
     "cell_type": "markdown",
     "metadata": {},
     "source": [
      "Add the link to dblinks"
     ]
    },
    {
     "cell_type": "code",
     "collapsed": false,
     "input": [
      "new.dblinks.add(link)"
     ],
     "language": "python",
     "metadata": {},
     "outputs": []
    },
    {
     "cell_type": "markdown",
     "metadata": {},
     "source": [
      "Define the columns of the attribute table"
     ]
    },
    {
     "cell_type": "code",
     "collapsed": false,
     "input": [
      "cols = [(u'cat',       'INTEGER PRIMARY KEY'),\n",
      "        (u'name',      'VAR CHAR')]"
     ],
     "language": "python",
     "metadata": {},
     "outputs": []
    },
    {
     "cell_type": "markdown",
     "metadata": {},
     "source": [
      "Retrive the Table object and create the table in the database"
     ]
    },
    {
     "cell_type": "code",
     "collapsed": false,
     "input": [
      "new.table = new.dblinks[0].table()\n",
      "\n",
      "# create the table in the DB\n",
      "# new.table.columns.create(cols)\n",
      "new.table.create(cols)"
     ],
     "language": "python",
     "metadata": {},
     "outputs": []
    },
    {
     "cell_type": "markdown",
     "metadata": {},
     "source": [
      "insert the values in the table"
     ]
    },
    {
     "cell_type": "code",
     "collapsed": false,
     "input": [
      "new.table.insert([(1, 'pub'), (2, 'resturnat')], many=True)"
     ],
     "language": "python",
     "metadata": {},
     "outputs": []
    },
    {
     "cell_type": "markdown",
     "metadata": {},
     "source": [
      "Save the changes"
     ]
    },
    {
     "cell_type": "code",
     "collapsed": false,
     "input": [
      "new.table.conn.commit()\n",
      "new.close()"
     ],
     "language": "python",
     "metadata": {},
     "outputs": []
    },
    {
     "cell_type": "heading",
     "level": 3,
     "metadata": {},
     "source": [
      "Read the new vector map"
     ]
    },
    {
     "cell_type": "code",
     "collapsed": false,
     "input": [
      "new = VectorTopo('newvect')\n",
      "new.build()\n",
      "new.open('r')\n",
      "new[1].attrs"
     ],
     "language": "python",
     "metadata": {},
     "outputs": []
    },
    {
     "cell_type": "markdown",
     "metadata": {},
     "source": [
      "Read the keys of attribute table for the first feature"
     ]
    },
    {
     "cell_type": "code",
     "collapsed": false,
     "input": [
      "new[1].attrs.keys()"
     ],
     "language": "python",
     "metadata": {},
     "outputs": []
    },
    {
     "cell_type": "markdown",
     "metadata": {},
     "source": [
      "Read the values of attribute table for the first feature"
     ]
    },
    {
     "cell_type": "code",
     "collapsed": false,
     "input": [
      "new[1].attrs.values()"
     ],
     "language": "python",
     "metadata": {},
     "outputs": []
    },
    {
     "cell_type": "code",
     "collapsed": false,
     "input": [
      "new[1].attrs['name']"
     ],
     "language": "python",
     "metadata": {},
     "outputs": []
    },
    {
     "cell_type": "markdown",
     "metadata": {},
     "source": [
      "Replace value of *name* columns for the first feature"
     ]
    },
    {
     "cell_type": "code",
     "collapsed": false,
     "input": [
      "new[1].attrs['name'] = 'pizza'"
     ],
     "language": "python",
     "metadata": {},
     "outputs": []
    },
    {
     "cell_type": "code",
     "collapsed": false,
     "input": [
      "new[1].attrs['name']"
     ],
     "language": "python",
     "metadata": {},
     "outputs": []
    },
    {
     "cell_type": "code",
     "collapsed": false,
     "input": [
      "new[1].attrs['cat']"
     ],
     "language": "python",
     "metadata": {},
     "outputs": []
    },
    {
     "cell_type": "code",
     "collapsed": false,
     "input": [
      "new.cat(1, 'points')"
     ],
     "language": "python",
     "metadata": {},
     "outputs": []
    },
    {
     "cell_type": "code",
     "collapsed": false,
     "input": [
      "pnt = new.cat(1, 'points')[0]"
     ],
     "language": "python",
     "metadata": {},
     "outputs": []
    },
    {
     "cell_type": "code",
     "collapsed": false,
     "input": [
      "pnt.cat"
     ],
     "language": "python",
     "metadata": {},
     "outputs": []
    },
    {
     "cell_type": "code",
     "collapsed": false,
     "input": [
      "pnt.attrs['name']"
     ],
     "language": "python",
     "metadata": {},
     "outputs": []
    },
    {
     "cell_type": "code",
     "collapsed": false,
     "input": [
      "new.close()"
     ],
     "language": "python",
     "metadata": {},
     "outputs": []
    },
    {
     "cell_type": "heading",
     "level": 2,
     "metadata": {},
     "source": [
      "Write a new vector map in one step"
     ]
    },
    {
     "cell_type": "markdown",
     "metadata": {},
     "source": [
      "Remove the previous map"
     ]
    },
    {
     "cell_type": "code",
     "collapsed": false,
     "input": [
      "new.remove()"
     ],
     "language": "python",
     "metadata": {},
     "outputs": []
    },
    {
     "cell_type": "markdown",
     "metadata": {},
     "source": [
      "Open the map and create the database link and table, with:"
     ]
    },
    {
     "cell_type": "code",
     "collapsed": false,
     "input": [
      "new = VectorTopo('newvect')\n",
      "new.open('w', tab_cols=cols)"
     ],
     "language": "python",
     "metadata": {},
     "outputs": []
    },
    {
     "cell_type": "markdown",
     "metadata": {},
     "source": [
      "Write the geometry feature and the attribute"
     ]
    },
    {
     "cell_type": "code",
     "collapsed": false,
     "input": [
      "new.write(point0, ('pub', ))\n",
      "new.write(point1, ('restaurant', ))"
     ],
     "language": "python",
     "metadata": {},
     "outputs": []
    },
    {
     "cell_type": "markdown",
     "metadata": {},
     "source": [
      "save the changes and close the map"
     ]
    },
    {
     "cell_type": "code",
     "collapsed": false,
     "input": [
      "new.table.conn.commit()\n",
      "new.close()"
     ],
     "language": "python",
     "metadata": {},
     "outputs": []
    },
    {
     "cell_type": "code",
     "collapsed": false,
     "input": [
      "new.open('r')\n",
      "new[1].attrs['name']"
     ],
     "language": "python",
     "metadata": {},
     "outputs": []
    },
    {
     "cell_type": "code",
     "collapsed": false,
     "input": [
      "new.close()"
     ],
     "language": "python",
     "metadata": {},
     "outputs": []
    },
    {
     "cell_type": "heading",
     "level": 2,
     "metadata": {},
     "source": [
      "Rewrite"
     ]
    },
    {
     "cell_type": "markdown",
     "metadata": {},
     "source": [
      "Open the map in read-write mode"
     ]
    },
    {
     "cell_type": "code",
     "collapsed": false,
     "input": [
      "new.open('rw')"
     ],
     "language": "python",
     "metadata": {},
     "outputs": []
    },
    {
     "cell_type": "markdown",
     "metadata": {},
     "source": [
      "Create a new geometry feature:"
     ]
    },
    {
     "cell_type": "code",
     "collapsed": false,
     "input": [
      "point010 = Point(point0.x + 10, point0.y + 10)"
     ],
     "language": "python",
     "metadata": {},
     "outputs": []
    },
    {
     "cell_type": "markdown",
     "metadata": {},
     "source": [
      "Check the existing values:"
     ]
    },
    {
     "cell_type": "code",
     "collapsed": false,
     "input": [
      "print(new[1] == point010)\n",
      "print(new[1].attrs.values())"
     ],
     "language": "python",
     "metadata": {},
     "outputs": []
    },
    {
     "cell_type": "markdown",
     "metadata": {},
     "source": [
      "Rewrite the values:"
     ]
    },
    {
     "cell_type": "markdown",
     "metadata": {},
     "source": [
      "#Error 1 \n",
      "The code below fails (error attached)"
     ]
    },
    {
     "cell_type": "raw",
     "metadata": {},
     "source": [
      "new.rewrite(1, point010, ('Irish Pub',))"
     ]
    },
    {
     "cell_type": "markdown",
     "metadata": {},
     "source": [
      "```\n",
      "---------------------------------------------------------------------------\n",
      "ProgrammingError                          Traceback (most recent call last)\n",
      "<ipython-input-40-89b547ce1c1a> in <module>()\n",
      "----> 1 new.rewrite(1, point010, ('Irish Pub',))\n",
      "\n",
      "/usr/lib/grass70/etc/python/grass/pygrass/errors.py in wrapper(self, *args, **kargs)\n",
      "     13     def wrapper(self, *args, **kargs):\n",
      "     14         if self.is_open():\n",
      "---> 15             return method(self, *args, **kargs)\n",
      "     16         else:\n",
      "     17             get_msgr().warning(_(\"The map is close!\"))\n",
      "\n",
      "/usr/lib/grass70/etc/python/grass/pygrass/vector/__init__.py in rewrite(self, line, geo_obj, attrs, **kargs)\n",
      "    516             attr = [line, ]\n",
      "    517             attr.extend(attrs)\n",
      "--> 518             self.table.update(key=line, values=attr)\n",
      "    519         elif self.table is None and attrs:\n",
      "    520             print \"Table for vector {name} does not exist, attributes not\" \\\n",
      "\n",
      "/usr/lib/grass70/etc/python/grass/pygrass/vector/table.py in update(self, key, values, cursor)\n",
      "   1118         cur = cursor if cursor else self.conn.cursor()\n",
      "   1119         vals = list(values) + [key, ]\n",
      "-> 1120         return cur.execute(self.columns.update_str, vals)\n",
      "   1121 \n",
      "   1122     def create(self, cols, name=None, overwrite=False, cursor=None):\n",
      "\n",
      "ProgrammingError: Incorrect number of bindings supplied. The current statement uses 2, and there are 3 supplied.\n",
      "```"
     ]
    },
    {
     "cell_type": "markdown",
     "metadata": {},
     "source": [
      "And commit the changes in the database and close the vector map"
     ]
    },
    {
     "cell_type": "code",
     "collapsed": false,
     "input": [
      "new.table.conn.commit()\n",
      "new.close()"
     ],
     "language": "python",
     "metadata": {},
     "outputs": []
    },
    {
     "cell_type": "markdown",
     "metadata": {},
     "source": [
      "Check the values in the vector map"
     ]
    },
    {
     "cell_type": "code",
     "collapsed": false,
     "input": [
      "new.open('r')\n",
      "print(new[2] == point010)\n",
      "print(new[2].attrs.values())\n",
      "new.close()"
     ],
     "language": "python",
     "metadata": {},
     "outputs": []
    },
    {
     "cell_type": "heading",
     "level": 2,
     "metadata": {},
     "source": [
      "Vector class methods"
     ]
    },
    {
     "cell_type": "markdown",
     "metadata": {},
     "source": [
      "Check if a map exists with **exist** method."
     ]
    },
    {
     "cell_type": "code",
     "collapsed": false,
     "input": [
      "new.exist()"
     ],
     "language": "python",
     "metadata": {},
     "outputs": []
    },
    {
     "cell_type": "markdown",
     "metadata": {},
     "source": [
      "Check if a map is open or not, with **is_open** method."
     ]
    },
    {
     "cell_type": "code",
     "collapsed": false,
     "input": [
      "new.is_open()"
     ],
     "language": "python",
     "metadata": {},
     "outputs": []
    },
    {
     "cell_type": "markdown",
     "metadata": {},
     "source": [
      "Let's open and ask for **bbox()**"
     ]
    },
    {
     "cell_type": "code",
     "collapsed": false,
     "input": [
      "new.open('r')"
     ],
     "language": "python",
     "metadata": {},
     "outputs": []
    },
    {
     "cell_type": "code",
     "collapsed": false,
     "input": [
      "new.bbox()"
     ],
     "language": "python",
     "metadata": {},
     "outputs": []
    },
    {
     "cell_type": "markdown",
     "metadata": {},
     "source": [
      "Iterate between each line of the vector map"
     ]
    },
    {
     "cell_type": "code",
     "collapsed": false,
     "input": [
      "for pnt in new:\n",
      "    print(pnt, pnt.attrs.values())"
     ],
     "language": "python",
     "metadata": {},
     "outputs": []
    },
    {
     "cell_type": "markdown",
     "metadata": {},
     "source": [
      "Get a dictionary with the number of primitive that are present in the vector map"
     ]
    },
    {
     "cell_type": "code",
     "collapsed": false,
     "input": [
      "new.num_primitives()"
     ],
     "language": "python",
     "metadata": {},
     "outputs": []
    },
    {
     "cell_type": "markdown",
     "metadata": {},
     "source": [
      "Get a number of primitive of the vector map for a selected geometry feature. "
     ]
    },
    {
     "cell_type": "code",
     "collapsed": false,
     "input": [
      "new.num_primitive_of('point')"
     ],
     "language": "python",
     "metadata": {},
     "outputs": []
    },
    {
     "cell_type": "code",
     "collapsed": false,
     "input": [
      "new.person"
     ],
     "language": "python",
     "metadata": {},
     "outputs": []
    },
    {
     "cell_type": "markdown",
     "metadata": {},
     "source": [
      "**viter()** is an iteration method that can be use to perform tasks on each geometry primitive."
     ]
    },
    {
     "cell_type": "code",
     "collapsed": false,
     "input": [
      "count = 0\n",
      "for pnt in new.viter(\"lines\"):\n",
      "    count += 1\n",
      "print(count)"
     ],
     "language": "python",
     "metadata": {},
     "outputs": []
    },
    {
     "cell_type": "heading",
     "level": 1,
     "metadata": {},
     "source": [
      "Object contained in a Vector map"
     ]
    },
    {
     "cell_type": "heading",
     "level": 2,
     "metadata": {},
     "source": [
      "DBLinks"
     ]
    },
    {
     "cell_type": "markdown",
     "metadata": {},
     "source": [
      "A vector map may have differents attributes tables connected using different database link. The **dblinks** attribute containes all this information.\n",
      "\n",
      "More info about <a href=\"http://grass.osgeo.org/grass71/manuals/libpython/pygrass.vector.html#pygrass.vector.table.DBlinks\" target=\"_blank\"><b>DBLinks class</b></a>"
     ]
    },
    {
     "cell_type": "code",
     "collapsed": false,
     "input": [
      "new.dblinks"
     ],
     "language": "python",
     "metadata": {},
     "outputs": []
    },
    {
     "cell_type": "markdown",
     "metadata": {},
     "source": [
      "The **num_dblinks** method return the number of link object that are available for the vector map"
     ]
    },
    {
     "cell_type": "code",
     "collapsed": false,
     "input": [
      "new.dblinks.num_dblinks()"
     ],
     "language": "python",
     "metadata": {},
     "outputs": []
    },
    {
     "cell_type": "markdown",
     "metadata": {},
     "source": [
      "Then we can choose the database connection using the **index**, the **layer** or the connection **name**:"
     ]
    },
    {
     "cell_type": "code",
     "collapsed": false,
     "input": [
      "new.dblinks.by_index(0)"
     ],
     "language": "python",
     "metadata": {},
     "outputs": []
    },
    {
     "cell_type": "code",
     "collapsed": false,
     "input": [
      "new.dblinks.by_layer(1)"
     ],
     "language": "python",
     "metadata": {},
     "outputs": []
    },
    {
     "cell_type": "code",
     "collapsed": false,
     "input": [
      "new.dblinks.by_name('newvect')"
     ],
     "language": "python",
     "metadata": {},
     "outputs": []
    },
    {
     "cell_type": "markdown",
     "metadata": {},
     "source": [
      "We can add new connection to the vector map with the **add** method:"
     ]
    },
    {
     "cell_type": "code",
     "collapsed": false,
     "input": [
      "new.dblinks.add"
     ],
     "language": "python",
     "metadata": {},
     "outputs": []
    },
    {
     "cell_type": "markdown",
     "metadata": {},
     "source": [
      "and remove the connection with the **remove** method"
     ]
    },
    {
     "cell_type": "code",
     "collapsed": false,
     "input": [
      "new.dblinks.remove"
     ],
     "language": "python",
     "metadata": {},
     "outputs": []
    },
    {
     "cell_type": "heading",
     "level": 2,
     "metadata": {},
     "source": [
      "Link"
     ]
    },
    {
     "cell_type": "markdown",
     "metadata": {},
     "source": [
      "The *Link* class it is used for the link between vector map and attribute table.\n",
      "\n",
      "More info about <a href=\"http://grass.osgeo.org/grass71/manuals/libpython/pygrass.vector.html#pygrass.vector.table.Link\" target=\"_blank\"><b>Link class</b></a>"
     ]
    },
    {
     "cell_type": "code",
     "collapsed": false,
     "input": [
      "link = new.dblinks[0]"
     ],
     "language": "python",
     "metadata": {},
     "outputs": []
    },
    {
     "cell_type": "markdown",
     "metadata": {},
     "source": [
      "You can obtain more information about the connection link"
     ]
    },
    {
     "cell_type": "code",
     "collapsed": false,
     "input": [
      "link.database"
     ],
     "language": "python",
     "metadata": {},
     "outputs": []
    },
    {
     "cell_type": "code",
     "collapsed": false,
     "input": [
      "link.name"
     ],
     "language": "python",
     "metadata": {},
     "outputs": []
    },
    {
     "cell_type": "code",
     "collapsed": false,
     "input": [
      "link.table_name"
     ],
     "language": "python",
     "metadata": {},
     "outputs": []
    },
    {
     "cell_type": "code",
     "collapsed": false,
     "input": [
      "link.driver"
     ],
     "language": "python",
     "metadata": {},
     "outputs": []
    },
    {
     "cell_type": "code",
     "collapsed": false,
     "input": [
      "link.key"
     ],
     "language": "python",
     "metadata": {},
     "outputs": []
    },
    {
     "cell_type": "code",
     "collapsed": false,
     "input": [
      "link.layer"
     ],
     "language": "python",
     "metadata": {},
     "outputs": []
    },
    {
     "cell_type": "markdown",
     "metadata": {},
     "source": [
      "The **connection** method return a Connection object that follow the [PEP-249](http://www.python.org/dev/peps/pep-0249/)"
     ]
    },
    {
     "cell_type": "code",
     "collapsed": false,
     "input": [
      "link.connection()"
     ],
     "language": "python",
     "metadata": {},
     "outputs": []
    },
    {
     "cell_type": "markdown",
     "metadata": {},
     "source": [
      "therefore we can use directly the connection with the db, with:"
     ]
    },
    {
     "cell_type": "code",
     "collapsed": false,
     "input": [
      "conn = link.connection()\n",
      "cur = conn.cursor()\n",
      "cur.execute(\"SELECT * FROM newvect\")\n",
      "cur.fetchall()"
     ],
     "language": "python",
     "metadata": {},
     "outputs": []
    },
    {
     "cell_type": "markdown",
     "metadata": {},
     "source": [
      "The **table** method return a **Table** object that will be show in the following part."
     ]
    },
    {
     "cell_type": "code",
     "collapsed": false,
     "input": [
      "link.table()"
     ],
     "language": "python",
     "metadata": {},
     "outputs": []
    },
    {
     "cell_type": "heading",
     "level": 2,
     "metadata": {},
     "source": [
      "Table"
     ]
    },
    {
     "cell_type": "markdown",
     "metadata": {},
     "source": [
      "The **Table** object describe the attribute table, and it is possible to *do query on attributes*.\n",
      "\n",
      "More info about <a href=\"http://grass.osgeo.org/grass71/manuals/libpython/pygrass.vector.html#pygrass.vector.table.Table\" target=\"_blank\"><b>Table class</b></a>"
     ]
    },
    {
     "cell_type": "code",
     "collapsed": false,
     "input": [
      "new.table.columns"
     ],
     "language": "python",
     "metadata": {},
     "outputs": []
    },
    {
     "cell_type": "markdown",
     "metadata": {},
     "source": [
      "Obtain all the data from the table"
     ]
    },
    {
     "cell_type": "code",
     "collapsed": false,
     "input": [
      "cur = new.table.execute()\n",
      "cur.fetchall()"
     ],
     "language": "python",
     "metadata": {},
     "outputs": []
    },
    {
     "cell_type": "markdown",
     "metadata": {},
     "source": [
      "or filter the select"
     ]
    },
    {
     "cell_type": "code",
     "collapsed": false,
     "input": [
      "new.table.filters.select('name').where('cat=1')"
     ],
     "language": "python",
     "metadata": {},
     "outputs": []
    },
    {
     "cell_type": "code",
     "collapsed": false,
     "input": [
      "new.table.filters.get_sql()"
     ],
     "language": "python",
     "metadata": {},
     "outputs": []
    },
    {
     "cell_type": "code",
     "collapsed": false,
     "input": [
      "cur = new.table.execute()\n",
      "cur.fetchone()[0]"
     ],
     "language": "python",
     "metadata": {},
     "outputs": []
    },
    {
     "cell_type": "code",
     "collapsed": false,
     "input": [
      "new.close()"
     ],
     "language": "python",
     "metadata": {},
     "outputs": []
    },
    {
     "cell_type": "heading",
     "level": 1,
     "metadata": {},
     "source": [
      "Summary"
     ]
    },
    {
     "cell_type": "markdown",
     "metadata": {},
     "source": [
      "We saw how to:\n",
      "\n",
      "* write a vector map with only the geometry features;\n",
      "* add a new database connection, create and fill the attributes table;\n",
      "* read, iterate and modify an existing vector map;\n",
      "* select some values from an attribute table, change, add, cast and remove columns;"
     ]
    },
    {
     "cell_type": "heading",
     "level": 1,
     "metadata": {},
     "source": [
      "Exercise"
     ]
    },
    {
     "cell_type": "markdown",
     "metadata": {},
     "source": [
      "Below, we define a function to create random point"
     ]
    },
    {
     "cell_type": "code",
     "collapsed": false,
     "input": [
      "# import the random function\n",
      "import random\n",
      "\n",
      "# import the Point and Region functions?\n",
      "from grass.pygrass.vector.geometry import Point\n",
      "from grass.pygrass.gis.region import Region\n",
      "\n",
      "# define a function to produce random points\n",
      "def get_random_points(num):\n",
      "    # inside current GRASS' region of course\n",
      "    reg = Region()\n",
      "    # loop over a series of numbers from 0 up to...\n",
      "    for _ in xrange(0, num):\n",
      "        # use the function randrange() to get both x and y random numbers\n",
      "        x = random.randrange(reg.south, reg.north)\n",
      "        y = random.randrange(reg.west, reg.east)\n",
      "        # at the end of each loop we need to explicitly catch the pairs of x and y numbers\n",
      "        # in order to produce a point\n",
      "        yield Point(x, y)\n"
     ],
     "language": "python",
     "metadata": {},
     "outputs": []
    },
    {
     "cell_type": "markdown",
     "metadata": {},
     "source": [
      "Using the **get_random_points** function write a function that return a new vector points map"
     ]
    },
    {
     "cell_type": "code",
     "collapsed": false,
     "input": [
      "# Here write the function"
     ],
     "language": "python",
     "metadata": {},
     "outputs": []
    },
    {
     "cell_type": "code",
     "collapsed": false,
     "input": [
      "rand_pnts = rand_vect_points('random_points', npoints=10)"
     ],
     "language": "python",
     "metadata": {},
     "outputs": []
    },
    {
     "cell_type": "code",
     "collapsed": false,
     "input": [
      "# Here create the new vector"
     ],
     "language": "python",
     "metadata": {},
     "outputs": []
    },
    {
     "cell_type": "markdown",
     "metadata": {},
     "source": [
      "use the **viter()** function, just to prove the iteration concept "
     ]
    },
    {
     "cell_type": "code",
     "collapsed": false,
     "input": [],
     "language": "python",
     "metadata": {},
     "outputs": []
    },
    {
     "cell_type": "code",
     "collapsed": false,
     "input": [],
     "language": "python",
     "metadata": {},
     "outputs": []
    }
   ],
   "metadata": {}
  }
 ]
}