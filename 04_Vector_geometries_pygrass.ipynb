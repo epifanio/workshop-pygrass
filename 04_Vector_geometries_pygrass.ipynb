{
 "metadata": {
  "name": "",
  "signature": "sha256:13fefe050ba92dc4976951b67721634ea0ef38d76a9af2df7dee1c313dbd97ee"
 },
 "nbformat": 3,
 "nbformat_minor": 0,
 "worksheets": [
  {
   "cells": [
    {
     "cell_type": "heading",
     "level": 1,
     "metadata": {},
     "source": [
      "Geometry features"
     ]
    },
    {
     "cell_type": "markdown",
     "metadata": {},
     "source": [
      "Vector maps have different geometry features, like:\n",
      "\n",
      "* point;\n",
      "* line;\n",
      "* boundary;\n",
      "* area;\n",
      "* face (not supported yet);\n",
      "* kernel (not supported yet);\n",
      "\n",
      "All these geometry features are define in:"
     ]
    },
    {
     "cell_type": "code",
     "collapsed": false,
     "input": [
      "from grass.pygrass.vector import geometry as geo"
     ],
     "language": "python",
     "metadata": {},
     "outputs": []
    },
    {
     "cell_type": "heading",
     "level": 2,
     "metadata": {},
     "source": [
      "Point"
     ]
    },
    {
     "cell_type": "markdown",
     "metadata": {},
     "source": [
      "The point is the simpler type of geometry, it is composed by at least 2 coordinates.\n",
      "\n",
      "<!-- More info about <a href=\"http://grass.osgeo.org/programming7/structPoint.html\" target=\"_blank\">Point Structure</a> -->"
     ]
    },
    {
     "cell_type": "code",
     "collapsed": false,
     "input": [
      "pnt00 = geo.Point(0, 0)"
     ],
     "language": "python",
     "metadata": {},
     "outputs": []
    },
    {
     "cell_type": "markdown",
     "metadata": {},
     "source": [
      "We can calculate the distance between two points"
     ]
    },
    {
     "cell_type": "code",
     "collapsed": false,
     "input": [
      "pnt00.distance(geo.Point(1, 1))"
     ],
     "language": "python",
     "metadata": {},
     "outputs": []
    },
    {
     "cell_type": "markdown",
     "metadata": {},
     "source": [
      "Check if it is 2D or 3D"
     ]
    },
    {
     "cell_type": "code",
     "collapsed": false,
     "input": [
      "pnt00.is2D"
     ],
     "language": "python",
     "metadata": {},
     "outputs": []
    },
    {
     "cell_type": "code",
     "collapsed": false,
     "input": [
      "pnt00.z = 0\n",
      "pnt00.is2D"
     ],
     "language": "python",
     "metadata": {},
     "outputs": []
    },
    {
     "cell_type": "markdown",
     "metadata": {},
     "source": [
      "It is also possible to create a buffer around the point, and obtain an area object"
     ]
    },
    {
     "cell_type": "code",
     "collapsed": false,
     "input": [
      "buff = pnt00.buffer(2)"
     ],
     "language": "python",
     "metadata": {},
     "outputs": []
    },
    {
     "cell_type": "code",
     "collapsed": false,
     "input": [
      "buff"
     ],
     "language": "python",
     "metadata": {},
     "outputs": []
    },
    {
     "cell_type": "code",
     "collapsed": false,
     "input": [
      "buff.boundary"
     ],
     "language": "python",
     "metadata": {},
     "outputs": []
    },
    {
     "cell_type": "code",
     "collapsed": false,
     "input": [
      "buff.centroid"
     ],
     "language": "python",
     "metadata": {},
     "outputs": []
    },
    {
     "cell_type": "code",
     "collapsed": false,
     "input": [
      "buff.isles"
     ],
     "language": "python",
     "metadata": {},
     "outputs": []
    },
    {
     "cell_type": "heading",
     "level": 2,
     "metadata": {},
     "source": [
      "Line"
     ]
    },
    {
     "cell_type": "markdown",
     "metadata": {},
     "source": [
      "A line is created from several [points](#Point).\n",
      "\n",
      "<!--- More info about <a href=\"http://grass.osgeo.org/programming7/structLine.html\" target=\"_blank\">Point Structure</a> -->"
     ]
    },
    {
     "cell_type": "code",
     "collapsed": false,
     "input": [
      "line = geo.Line([(0, 0), (0, 3)])"
     ],
     "language": "python",
     "metadata": {},
     "outputs": []
    },
    {
     "cell_type": "markdown",
     "metadata": {},
     "source": [
      "We can perform some simple analysis like:"
     ]
    },
    {
     "cell_type": "markdown",
     "metadata": {},
     "source": [
      "* bounding box"
     ]
    },
    {
     "cell_type": "code",
     "collapsed": false,
     "input": [
      "line.bbox()"
     ],
     "language": "python",
     "metadata": {},
     "outputs": []
    },
    {
     "cell_type": "markdown",
     "metadata": {},
     "source": [
      "* length"
     ]
    },
    {
     "cell_type": "code",
     "collapsed": false,
     "input": [
      "line.length()"
     ],
     "language": "python",
     "metadata": {},
     "outputs": []
    },
    {
     "cell_type": "markdown",
     "metadata": {},
     "source": [
      "* distance"
     ]
    },
    {
     "cell_type": "code",
     "collapsed": false,
     "input": [
      "line.distance(geo.Point(4, 1))"
     ],
     "language": "python",
     "metadata": {},
     "outputs": []
    },
    {
     "cell_type": "code",
     "collapsed": false,
     "input": [
      "line.distance?"
     ],
     "language": "python",
     "metadata": {},
     "outputs": []
    },
    {
     "cell_type": "markdown",
     "metadata": {},
     "source": [
      "* buffer"
     ]
    },
    {
     "cell_type": "code",
     "collapsed": false,
     "input": [
      "line.is_with_topology()"
     ],
     "language": "python",
     "metadata": {},
     "outputs": []
    },
    {
     "cell_type": "code",
     "collapsed": false,
     "input": [
      "buff = line.buffer(2)"
     ],
     "language": "python",
     "metadata": {},
     "outputs": []
    },
    {
     "cell_type": "code",
     "collapsed": false,
     "input": [
      "buff"
     ],
     "language": "python",
     "metadata": {},
     "outputs": []
    },
    {
     "cell_type": "code",
     "collapsed": false,
     "input": [
      "buff.boundary"
     ],
     "language": "python",
     "metadata": {},
     "outputs": []
    },
    {
     "cell_type": "code",
     "collapsed": false,
     "input": [
      "buff.centroid"
     ],
     "language": "python",
     "metadata": {},
     "outputs": []
    },
    {
     "cell_type": "code",
     "collapsed": false,
     "input": [
      "buff.isles"
     ],
     "language": "python",
     "metadata": {},
     "outputs": []
    },
    {
     "cell_type": "heading",
     "level": 2,
     "metadata": {},
     "source": [
      "Area"
     ]
    },
    {
     "cell_type": "markdown",
     "metadata": {},
     "source": [
      "An area is composed by a boundary (a closed, first e last point should be the same, [Line](#Line) object) and a centroid (a [point](#Point) object)"
     ]
    },
    {
     "cell_type": "code",
     "collapsed": false,
     "input": [
      "area = geo.Area(boundary=geo.Line([(0, 0), (0, 2), (2, 2), (2, 0), (0, 0)]), centroid=geo.Point(1, 1))"
     ],
     "language": "python",
     "metadata": {},
     "outputs": []
    },
    {
     "cell_type": "code",
     "collapsed": false,
     "input": [
      "area.is_with_topology()"
     ],
     "language": "python",
     "metadata": {},
     "outputs": []
    },
    {
     "cell_type": "heading",
     "level": 1,
     "metadata": {},
     "source": [
      "Summary"
     ]
    },
    {
     "cell_type": "markdown",
     "metadata": {},
     "source": [
      "We saw how to:\n",
      "\n",
      "* instantiate a geometry objects (Point, Line, Area);\n",
      "* and saw some of their methods (distance, buffer, lenght, etc);"
     ]
    },
    {
     "cell_type": "heading",
     "level": 1,
     "metadata": {},
     "source": [
      "Exercise"
     ]
    },
    {
     "cell_type": "markdown",
     "metadata": {},
     "source": [
      "Below, we define a function to create random point"
     ]
    },
    {
     "cell_type": "code",
     "collapsed": false,
     "input": [
      "# import the random function\n",
      "import random\n",
      "\n",
      "# import the Point and Region functions?\n",
      "from grass.pygrass.vector.geometry import Point\n",
      "from grass.pygrass.gis.region import Region\n",
      "\n",
      "# define a function to produce random points\n",
      "def get_random_points(num):\n",
      "    # inside current GRASS' region of course\n",
      "    reg = Region()\n",
      "    # loop over a series of numbers from 0 up to...\n",
      "    for _ in xrange(0, num):\n",
      "        # use the function randrange() to get both x and y random numbers\n",
      "        x = random.randrange(reg.south, reg.north)\n",
      "        y = random.randrange(reg.west, reg.east)\n",
      "        # at the end of each loop we need to explicitly catch the pairs of x and y numbers\n",
      "        # in order to produce a point\n",
      "        yield Point(x, y)\n"
     ],
     "language": "python",
     "metadata": {},
     "outputs": []
    },
    {
     "cell_type": "markdown",
     "metadata": {},
     "source": [
      "Using the **get_random_points** function write two functions:\n",
      "* one that return the distances between the different points\n",
      "* one that return the distances between the points a a line "
     ]
    },
    {
     "cell_type": "code",
     "collapsed": false,
     "input": [],
     "language": "python",
     "metadata": {},
     "outputs": []
    },
    {
     "cell_type": "code",
     "collapsed": false,
     "input": [
      "rand_pnts = rand_vect_points('random_points', npoints=10)"
     ],
     "language": "python",
     "metadata": {},
     "outputs": []
    },
    {
     "cell_type": "code",
     "collapsed": false,
     "input": [],
     "language": "python",
     "metadata": {},
     "outputs": []
    }
   ],
   "metadata": {}
  }
 ]
}