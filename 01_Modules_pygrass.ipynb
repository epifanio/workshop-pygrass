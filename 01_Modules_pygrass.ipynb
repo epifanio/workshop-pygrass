{
 "metadata": {
  "name": "",
  "signature": "sha256:b44c3670d21af26d6406898afd870de31a30fe44a9e136c683d94a6fa050f586"
 },
 "nbformat": 3,
 "nbformat_minor": 0,
 "worksheets": [
  {
   "cells": [
    {
     "cell_type": "heading",
     "level": 1,
     "metadata": {},
     "source": [
      "Modules"
     ]
    },
    {
     "cell_type": "markdown",
     "metadata": {},
     "source": [
      "The Modules module permits to work directly with the GRASS GIS module.\n",
      "\n",
      "More info about <a href=\"http://grass.osgeo.org/grass71/manuals/libpython/pygrass.modules.interface.html#module-pygrass.modules.interface.module\" target=\"_blank\">Module class</a>"
     ]
    },
    {
     "cell_type": "code",
     "collapsed": false,
     "input": [
      "from IPython.display import Image\n",
      "from pprint import pprint\n",
      "from subprocess import PIPE\n",
      "\n",
      "import numpy as np\n",
      "\n",
      "from show import show\n"
     ],
     "language": "python",
     "metadata": {},
     "outputs": []
    },
    {
     "cell_type": "heading",
     "level": 2,
     "metadata": {},
     "source": [
      "Using the pygrass module interface"
     ]
    },
    {
     "cell_type": "markdown",
     "metadata": {},
     "source": [
      "User who just wants to replace BASH with python has to import modules in the following manner:"
     ]
    },
    {
     "cell_type": "code",
     "collapsed": false,
     "input": [
      "from grass.pygrass.modules.shortcuts import raster as r, vector as v, general as g, display as d\n",
      "from grass.pygrass.modules import Module"
     ],
     "language": "python",
     "metadata": {},
     "outputs": []
    },
    {
     "cell_type": "markdown",
     "metadata": {},
     "source": [
      "And then call the grass modules"
     ]
    },
    {
     "cell_type": "code",
     "collapsed": false,
     "input": [
      "g.region(raster='elevation', flags='p')"
     ],
     "language": "python",
     "metadata": {},
     "outputs": []
    },
    {
     "cell_type": "code",
     "collapsed": false,
     "input": [
      "print(g.region(flags='p', stdout_=PIPE).outputs.stdout)"
     ],
     "language": "python",
     "metadata": {},
     "outputs": []
    },
    {
     "cell_type": "markdown",
     "metadata": {},
     "source": [
      "If the name of the grass module contains \".\" you should replace it with \"_\". See the example bellow:"
     ]
    },
    {
     "cell_type": "code",
     "collapsed": false,
     "input": [
      "r.slope_aspect(elevation='elevation', slope='slope', aspect='aspect', overwrite=True)\n",
      "r.mapcalc(\"slope_gt_10 = if(slope > 10, slope, null())\", overwrite=True)\n",
      "print(r.info(map='slope_gt_10', flags='r', stdout_=PIPE).outputs.stdout)"
     ],
     "language": "python",
     "metadata": {},
     "outputs": []
    },
    {
     "cell_type": "code",
     "collapsed": false,
     "input": [
      "show('slope_gt_10', flags='n')"
     ],
     "language": "python",
     "metadata": {},
     "outputs": []
    },
    {
     "cell_type": "code",
     "collapsed": false,
     "input": [
      "show('slope')"
     ],
     "language": "python",
     "metadata": {},
     "outputs": []
    },
    {
     "cell_type": "markdown",
     "metadata": {},
     "source": [
      "Do something with the vectors:"
     ]
    },
    {
     "cell_type": "code",
     "collapsed": false,
     "input": [
      "print(g.list(type='raster', flags='m', stdout_=PIPE).outputs.stdout)"
     ],
     "language": "python",
     "metadata": {},
     "outputs": []
    },
    {
     "cell_type": "code",
     "collapsed": false,
     "input": [
      "v.to_rast(input='hospitals', output='hospitals', type=\"point\", use='cat', overwrite=True, quiet=True)"
     ],
     "language": "python",
     "metadata": {},
     "outputs": []
    },
    {
     "cell_type": "code",
     "collapsed": false,
     "input": [
      "print(g.list(type='raster', flags='m', stdout_=PIPE).outputs.stdout)"
     ],
     "language": "python",
     "metadata": {},
     "outputs": []
    },
    {
     "cell_type": "heading",
     "level": 2,
     "metadata": {},
     "source": [
      "Backwards compatibility"
     ]
    },
    {
     "cell_type": "markdown",
     "metadata": {},
     "source": [
      "If you have a python script and want to convert it to use the new python interface, you just need to transform:"
     ]
    },
    {
     "cell_type": "code",
     "collapsed": false,
     "input": [
      "#from grass.script.core import run_command\n",
      "from grass.pygrass.modules import Module as run_command\n",
      "\n",
      "run_command(\"r.info\", map='elevation')\n",
      "#etc..."
     ],
     "language": "python",
     "metadata": {},
     "outputs": []
    },
    {
     "cell_type": "heading",
     "level": 2,
     "metadata": {},
     "source": [
      "Module as object"
     ]
    },
    {
     "cell_type": "markdown",
     "metadata": {},
     "source": [
      "Import the Module class, and instantiate the command, the name of the GRASS module is required."
     ]
    },
    {
     "cell_type": "code",
     "collapsed": false,
     "input": [
      "from grass.pygrass.modules import Module\n",
      "\n",
      "slp = Module(\"r.slope.aspect\")"
     ],
     "language": "python",
     "metadata": {},
     "outputs": []
    },
    {
     "cell_type": "heading",
     "level": 3,
     "metadata": {},
     "source": [
      "Attributes"
     ]
    },
    {
     "cell_type": "code",
     "collapsed": false,
     "input": [
      "slp.name"
     ],
     "language": "python",
     "metadata": {},
     "outputs": []
    },
    {
     "cell_type": "code",
     "collapsed": false,
     "input": [
      "slp.description"
     ],
     "language": "python",
     "metadata": {},
     "outputs": []
    },
    {
     "cell_type": "code",
     "collapsed": false,
     "input": [
      "slp.keywords"
     ],
     "language": "python",
     "metadata": {},
     "outputs": []
    },
    {
     "cell_type": "code",
     "collapsed": false,
     "input": [
      "slp.label"
     ],
     "language": "python",
     "metadata": {},
     "outputs": []
    },
    {
     "cell_type": "code",
     "collapsed": false,
     "input": [
      "# get the documentation of the module\n",
      "slp?"
     ],
     "language": "python",
     "metadata": {},
     "outputs": []
    },
    {
     "cell_type": "markdown",
     "metadata": {},
     "source": [
      "The instantiated module splits the parameters in:\n",
      "\n",
      "* inputs\n",
      "* outputs\n",
      "\n",
      "both parameters are an [OrderedDict](http://docs.python.org/2/library/collections.html#collections.OrderedDict) python object. Additionally, the 'required' attribute returns a list of the parameters that are required.\n",
      "\n"
     ]
    },
    {
     "cell_type": "code",
     "collapsed": false,
     "input": [
      "pprint(dict(slp.inputs))"
     ],
     "language": "python",
     "metadata": {},
     "outputs": []
    },
    {
     "cell_type": "code",
     "collapsed": false,
     "input": [
      "pprint(dict(slp.outputs))"
     ],
     "language": "python",
     "metadata": {},
     "outputs": []
    },
    {
     "cell_type": "code",
     "collapsed": false,
     "input": [
      "slp.required"
     ],
     "language": "python",
     "metadata": {},
     "outputs": []
    },
    {
     "cell_type": "code",
     "collapsed": false,
     "input": [
      "slp.inputs['elevation']"
     ],
     "language": "python",
     "metadata": {},
     "outputs": []
    },
    {
     "cell_type": "code",
     "collapsed": false,
     "input": [
      "slp.inputs.elevation = \"elevation\""
     ],
     "language": "python",
     "metadata": {},
     "outputs": []
    },
    {
     "cell_type": "code",
     "collapsed": false,
     "input": [
      "slp.inputs.elevation"
     ],
     "language": "python",
     "metadata": {},
     "outputs": []
    },
    {
     "cell_type": "code",
     "collapsed": false,
     "input": [
      "slp.inputs[\"format\"]"
     ],
     "language": "python",
     "metadata": {},
     "outputs": []
    },
    {
     "cell_type": "code",
     "collapsed": false,
     "input": [
      "slp.inputs.format = 'percent'"
     ],
     "language": "python",
     "metadata": {},
     "outputs": []
    },
    {
     "cell_type": "code",
     "collapsed": false,
     "input": [
      "slp.outputs.slope = 'slope'"
     ],
     "language": "python",
     "metadata": {},
     "outputs": []
    },
    {
     "cell_type": "code",
     "collapsed": false,
     "input": [
      "slp.flags.g = True"
     ],
     "language": "python",
     "metadata": {},
     "outputs": []
    },
    {
     "cell_type": "code",
     "collapsed": false,
     "input": [
      "slp.flags.a = True"
     ],
     "language": "python",
     "metadata": {},
     "outputs": []
    },
    {
     "cell_type": "code",
     "collapsed": false,
     "input": [
      "print slp.flags.overwrite # --overwrite, --verbose, --quite"
     ],
     "language": "python",
     "metadata": {},
     "outputs": []
    },
    {
     "cell_type": "code",
     "collapsed": false,
     "input": [
      "slp.flags.overwrite = True\n",
      "\n",
      "# run the module\n",
      "slp.run()"
     ],
     "language": "python",
     "metadata": {},
     "outputs": []
    },
    {
     "cell_type": "heading",
     "level": 3,
     "metadata": {},
     "source": [
      "Methods"
     ]
    },
    {
     "cell_type": "code",
     "collapsed": false,
     "input": [
      "print slp  # __str__"
     ],
     "language": "python",
     "metadata": {},
     "outputs": []
    },
    {
     "cell_type": "code",
     "collapsed": false,
     "input": [
      "repr(slp)  # __repr__"
     ],
     "language": "python",
     "metadata": {},
     "outputs": []
    },
    {
     "cell_type": "code",
     "collapsed": false,
     "input": [
      "from grass.pygrass.modules import Module\n",
      "\n",
      "slp = Module(\"r.slope.aspect\")\n",
      "\n",
      "slp(elevation='elevation', \n",
      "    slope='slp',  aspect='asp', \n",
      "    format='percent', overwrite=True, \n",
      "    verbose=False, flags='a', run_=False)\n",
      "\n",
      "print slp.get_bash()\n",
      "print slp.get_python()"
     ],
     "language": "python",
     "metadata": {},
     "outputs": []
    },
    {
     "cell_type": "heading",
     "level": 2,
     "metadata": {},
     "source": [
      "Run as a function"
     ]
    },
    {
     "cell_type": "code",
     "collapsed": false,
     "input": [
      "slp(elevation='elevation', slope='slp',  aspect='asp', format='percent', overwrite=True)"
     ],
     "language": "python",
     "metadata": {},
     "outputs": []
    },
    {
     "cell_type": "heading",
     "level": 2,
     "metadata": {},
     "source": [
      "Special parameters"
     ]
    },
    {
     "cell_type": "heading",
     "level": 3,
     "metadata": {},
     "source": [
      "\"run_\" to run later"
     ]
    },
    {
     "cell_type": "code",
     "collapsed": false,
     "input": [
      "slp(elevation='elevation', slope='slp',  aspect='asp', format='percent', overwrite=True, run_=False)"
     ],
     "language": "python",
     "metadata": {},
     "outputs": []
    },
    {
     "cell_type": "heading",
     "level": 3,
     "metadata": {},
     "source": [
      "\"finish_\" to manage the process"
     ]
    },
    {
     "cell_type": "code",
     "collapsed": false,
     "input": [
      "slp(elevation='elevation', slope='slp',  aspect='asp', format='percent', overwrite=True, run_=True, finish_=False)"
     ],
     "language": "python",
     "metadata": {},
     "outputs": []
    },
    {
     "cell_type": "code",
     "collapsed": false,
     "input": [
      "slp.popen.wait() # .kill()"
     ],
     "language": "python",
     "metadata": {},
     "outputs": []
    },
    {
     "cell_type": "heading",
     "level": 3,
     "metadata": {},
     "source": [
      "`stdin_`, `stdout_`, `stderr_`"
     ]
    },
    {
     "cell_type": "code",
     "collapsed": false,
     "input": [
      "slp(elevation='elevation', slope='slp', aspect='asp', \n",
      "    format='percent', overwrite=True, stderr_=PIPE, run_=True)"
     ],
     "language": "python",
     "metadata": {},
     "outputs": []
    },
    {
     "cell_type": "code",
     "collapsed": false,
     "input": [
      "print(slp.outputs.stderr)"
     ],
     "language": "python",
     "metadata": {},
     "outputs": []
    },
    {
     "cell_type": "code",
     "collapsed": false,
     "input": [
      "gmapset = g.mapset(mapset='_', flags='p', stdout_=PIPE)\n",
      "gmapset.outputs.stdout.strip()"
     ],
     "language": "python",
     "metadata": {},
     "outputs": []
    },
    {
     "cell_type": "heading",
     "level": 1,
     "metadata": {},
     "source": [
      "Summary"
     ]
    },
    {
     "cell_type": "markdown",
     "metadata": {},
     "source": [
      "We have seen:\n",
      "\n",
      "* how we can update existing Python script to use pygrass;\n",
      "* play with the grass modules as objects, changing only few parameters;\n",
      "* give more power to the user with the special parameters \"*_\".\n",
      "\n",
      "For more info about Module you can see the <a href=\"http://grass.osgeo.org/grass71/manuals/libpython/pygrass.modules.interface.html#module-pygrass.modules.interface.module\" target=\"_blank\">class documentation</a>"
     ]
    },
    {
     "cell_type": "heading",
     "level": 1,
     "metadata": {},
     "source": [
      "Exercise"
     ]
    },
    {
     "cell_type": "heading",
     "level": 2,
     "metadata": {},
     "source": [
      "Time for coding!"
     ]
    },
    {
     "cell_type": "code",
     "collapsed": false,
     "input": [
      "!g.region -p"
     ],
     "language": "python",
     "metadata": {},
     "outputs": []
    },
    {
     "cell_type": "markdown",
     "metadata": {},
     "source": [
      "Read the output of g.region and return a dictionary."
     ]
    },
    {
     "cell_type": "code",
     "collapsed": false,
     "input": [],
     "language": "python",
     "metadata": {},
     "outputs": []
    },
    {
     "cell_type": "heading",
     "level": 2,
     "metadata": {},
     "source": [
      "Create a GRASS module using pygrass"
     ]
    },
    {
     "cell_type": "code",
     "collapsed": false,
     "input": [
      "%%file mygrassmodule.py\n",
      "#!/usr/bin/env python\n",
      "# -- coding: utf-8 --\n",
      "#\n",
      "############################################################################\n",
      "#\n",
      "# MODULE:\t    <name of your module>\n",
      "#\n",
      "# AUTHOR(S):    <your name>\n",
      "#\n",
      "# COPYRIGHT:\t(C) 2013 by the GRASS Development Team\n",
      "#\n",
      "#\t\tThis program is free software under the GNU General Public\n",
      "#\t\tLicense (>=v2). Read the file COPYING that comes with GRASS\n",
      "#\t\tfor details.\n",
      "#\n",
      "#############################################################################\n",
      "\n",
      "##-----------------------\n",
      "## DESCRIPTION\n",
      "##-----------------------\n",
      "#%Module\n",
      "#%  description: <description>\n",
      "#%  keywords: <keyword 1>\n",
      "#%  keywords: <keyword 1>\n",
      "#%  keywords: <keyword 1>\n",
      "#%  overwrite: yes\n",
      "#%End\n",
      "\n",
      "##-----------------------\n",
      "## VECTOR INPUT\n",
      "##-----------------------\n",
      "#%option G_OPT_V_MAP\n",
      "#%  key: key0\n",
      "#%  description: <parameter description>\n",
      "#%  required: yes\n",
      "#%end\n",
      "\n",
      "##-----------------------\n",
      "## MULTI RASTER INPUT\n",
      "##-----------------------\n",
      "#%option G_OPT_R_INPUTS\n",
      "#%  key: key1\n",
      "#%  description: <parameter description>\n",
      "#%  multiple: yes\n",
      "#%  required: no\n",
      "#%end\n",
      "\n",
      "##-----------------------\n",
      "## STRING INPUT\n",
      "##-----------------------\n",
      "#%option\n",
      "#%  key: key2\n",
      "#%  description: <parameter description>\n",
      "#%  type: string\n",
      "#%  multiple: yes\n",
      "#%  required: no\n",
      "#%end\n",
      "from pprint import pprint\n",
      "from grass.script import parser\n",
      "\n",
      "def main(opts, flgs):\n",
      "    print('OPTIONS:')\n",
      "    pprint(opts)\n",
      "    print('FLAGS:')\n",
      "    pprint(flgs)\n",
      "\n",
      "if __name__ == \"__main__\":\n",
      "    opts, flgs = parser()\n",
      "    main(opts, flgs)\n",
      "\n"
     ],
     "language": "python",
     "metadata": {},
     "outputs": []
    },
    {
     "cell_type": "code",
     "collapsed": false,
     "input": [
      "!python2 mygrassmodule.py --h"
     ],
     "language": "python",
     "metadata": {},
     "outputs": []
    },
    {
     "cell_type": "code",
     "collapsed": false,
     "input": [
      "!python2 mygrassmodule.py key0=pippo key1=pluto,topolino key2=minni,clarabella"
     ],
     "language": "python",
     "metadata": {},
     "outputs": []
    }
   ],
   "metadata": {}
  }
 ]
}