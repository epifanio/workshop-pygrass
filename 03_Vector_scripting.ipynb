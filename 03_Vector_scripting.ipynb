{
 "metadata": {
  "name": "",
  "signature": "sha256:2aa2341d7eccd68a0ed0e101bfde72758ed4bbaec439288dd95ff296b5cdd773"
 },
 "nbformat": 3,
 "nbformat_minor": 0,
 "worksheets": [
  {
   "cells": [
    {
     "cell_type": "markdown",
     "metadata": {},
     "source": [
      "In this quick notebook we will use some functions of the scripting library to work with vector maps"
     ]
    },
    {
     "cell_type": "code",
     "collapsed": false,
     "input": [
      "from grass import script\n",
      "import collections"
     ],
     "language": "python",
     "metadata": {},
     "outputs": []
    },
    {
     "cell_type": "code",
     "collapsed": false,
     "input": [
      "MAP = 'geology'\n",
      "POINT = [[640000, 228000]]"
     ],
     "language": "python",
     "metadata": {},
     "outputs": []
    },
    {
     "cell_type": "heading",
     "level": 1,
     "metadata": {},
     "source": [
      "Information"
     ]
    },
    {
     "cell_type": "markdown",
     "metadata": {},
     "source": [
      "Obtain metadata of the map"
     ]
    },
    {
     "cell_type": "code",
     "collapsed": false,
     "input": [
      "script.vector_info(MAP)"
     ],
     "language": "python",
     "metadata": {},
     "outputs": []
    },
    {
     "cell_type": "markdown",
     "metadata": {},
     "source": [
      "Obtain information about the map's topology"
     ]
    },
    {
     "cell_type": "code",
     "collapsed": false,
     "input": [
      "script.vector_info_topo(MAP)"
     ],
     "language": "python",
     "metadata": {},
     "outputs": []
    },
    {
     "cell_type": "markdown",
     "metadata": {},
     "source": [
      "Or query the map on a point"
     ]
    },
    {
     "cell_type": "code",
     "collapsed": false,
     "input": [
      "out = script.vector_what(MAP, POINT)\n",
      "\n",
      "for o in out:\n",
      "    for k,v in o.items():\n",
      "        if type(v) == collections.OrderedDict:\n",
      "            print \"{key} = \".format(key=k),\n",
      "            for ka, va in v.items():\n",
      "                print \"{key}: {val}\".format(key=ka, val=va),\n",
      "            print\n",
      "        else:\n",
      "            print \"{key} = {val}\".format(key=k, val=v)"
     ],
     "language": "python",
     "metadata": {},
     "outputs": []
    },
    {
     "cell_type": "heading",
     "level": 1,
     "metadata": {},
     "source": [
      "Attributes"
     ]
    },
    {
     "cell_type": "markdown",
     "metadata": {},
     "source": [
      "In this section we will work with the attributes of a vector map.\n",
      "\n",
      "First we will check if the vector has a connected table"
     ]
    },
    {
     "cell_type": "code",
     "collapsed": false,
     "input": [
      "script.vector_db(MAP)"
     ],
     "language": "python",
     "metadata": {},
     "outputs": []
    },
    {
     "cell_type": "markdown",
     "metadata": {},
     "source": [
      "We are also able to see the columns' name"
     ]
    },
    {
     "cell_type": "code",
     "collapsed": false,
     "input": [
      "script.vector_columns(MAP)"
     ],
     "language": "python",
     "metadata": {},
     "outputs": []
    },
    {
     "cell_type": "markdown",
     "metadata": {},
     "source": [
      "It is also possible to query the attributes"
     ]
    },
    {
     "cell_type": "code",
     "collapsed": false,
     "input": [
      "all_values = script.vector_db_select(MAP)"
     ],
     "language": "python",
     "metadata": {},
     "outputs": []
    },
    {
     "cell_type": "code",
     "collapsed": false,
     "input": [
      "print all_values['columns']"
     ],
     "language": "python",
     "metadata": {},
     "outputs": []
    },
    {
     "cell_type": "code",
     "collapsed": false,
     "input": [
      "print all_values['values'][1]"
     ],
     "language": "python",
     "metadata": {},
     "outputs": []
    }
   ],
   "metadata": {}
  }
 ]
}