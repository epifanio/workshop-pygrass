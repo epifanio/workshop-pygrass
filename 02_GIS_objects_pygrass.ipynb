{
 "metadata": {
  "name": "",
  "signature": "sha256:6e81525fd7b852bea283e37b6fa1f75b39a69bf9d28675329479e98eb075f32f"
 },
 "nbformat": 3,
 "nbformat_minor": 0,
 "worksheets": [
  {
   "cells": [
    {
     "cell_type": "markdown",
     "metadata": {},
     "source": [
      "In this notebook we will see and use some of the GRASS GIS structure object. You can read more about GRASSDATA, LOCATION and MAPSET in the <a href=\"http://grass.osgeo.org/grass71/manuals/helptext.html\" target=\"_blank\">GRASS GIS introduction</a>."
     ]
    },
    {
     "cell_type": "heading",
     "level": 1,
     "metadata": {},
     "source": [
      "GISDBASE"
     ]
    },
    {
     "cell_type": "markdown",
     "metadata": {},
     "source": [
      "The GISDBASE, also called *GRASSDATA* is a directory with the structure used by GRASS GIS to store the data, it contain at least a LOCATION.\n",
      "\n",
      "More info about <a href=\"http://grass.osgeo.org/grass71/manuals/libpython/pygrass.gis.html#pygrass.gis.Gisdbase\" target=\"_blank\">Gisdbase class</a>"
     ]
    },
    {
     "cell_type": "code",
     "collapsed": false,
     "input": [
      "from grass.pygrass.gis import Gisdbase\n",
      "loc_name = 'loc_ncarolina_spm_base0.3.1'\n",
      "mapset_name = 'user1'"
     ],
     "language": "python",
     "metadata": {},
     "outputs": []
    },
    {
     "cell_type": "code",
     "collapsed": false,
     "input": [
      "gisdb = Gisdbase()"
     ],
     "language": "python",
     "metadata": {},
     "outputs": []
    },
    {
     "cell_type": "code",
     "collapsed": false,
     "input": [
      "gisdb.name"
     ],
     "language": "python",
     "metadata": {},
     "outputs": []
    },
    {
     "cell_type": "code",
     "collapsed": false,
     "input": [
      "gisdb.locations()"
     ],
     "language": "python",
     "metadata": {},
     "outputs": []
    },
    {
     "cell_type": "heading",
     "level": 1,
     "metadata": {},
     "source": [
      "LOCATION"
     ]
    },
    {
     "cell_type": "markdown",
     "metadata": {},
     "source": [
      "The LOCATION is some geographic extent of interest that contains data sets that [should] all be in the **same coordinate system**.\n",
      "\n",
      "More info about <a href=\"http://grass.osgeo.org/grass71/manuals/libpython/pygrass.gis.html#pygrass.gis.Location\" target=\"_blank\">Location class</a>"
     ]
    },
    {
     "cell_type": "code",
     "collapsed": false,
     "input": [
      "from grass.pygrass.gis import Location\n",
      "\n",
      "Location()"
     ],
     "language": "python",
     "metadata": {},
     "outputs": []
    },
    {
     "cell_type": "code",
     "collapsed": false,
     "input": [
      "gisdb[loc_name]"
     ],
     "language": "python",
     "metadata": {},
     "outputs": []
    },
    {
     "cell_type": "code",
     "collapsed": false,
     "input": [
      "northc = gisdb[loc_name]"
     ],
     "language": "python",
     "metadata": {},
     "outputs": []
    },
    {
     "cell_type": "code",
     "collapsed": false,
     "input": [
      "northc.gisdbase"
     ],
     "language": "python",
     "metadata": {},
     "outputs": []
    },
    {
     "cell_type": "code",
     "collapsed": false,
     "input": [
      "northc.name"
     ],
     "language": "python",
     "metadata": {},
     "outputs": []
    },
    {
     "cell_type": "code",
     "collapsed": false,
     "input": [
      "northc.mapsets()"
     ],
     "language": "python",
     "metadata": {},
     "outputs": []
    },
    {
     "cell_type": "heading",
     "level": 1,
     "metadata": {},
     "source": [
      "MAPSET"
     ]
    },
    {
     "cell_type": "markdown",
     "metadata": {},
     "source": [
      "In a MAPSET you can **organize GIS maps thematically or geographically or by project or whatever**. Every GRASS session runs under the name of a MAPSET. A MAPSET may be a geographical subset or as large as the parent LOCATION.\n",
      "\n",
      "More info about <a href=\"http://grass.osgeo.org/grass71/manuals/libpython/pygrass.gis.html#pygrass.gis.Mapset\" target=\"_blank\">Mapset class</a>"
     ]
    },
    {
     "cell_type": "code",
     "collapsed": false,
     "input": [
      "from grass.pygrass.gis import Mapset\n",
      "\n",
      "Mapset()"
     ],
     "language": "python",
     "metadata": {},
     "outputs": []
    },
    {
     "cell_type": "code",
     "collapsed": false,
     "input": [
      "northc[mapset_name]"
     ],
     "language": "python",
     "metadata": {},
     "outputs": []
    },
    {
     "cell_type": "code",
     "collapsed": false,
     "input": [
      "user1 = northc['user1']"
     ],
     "language": "python",
     "metadata": {},
     "outputs": []
    },
    {
     "cell_type": "code",
     "collapsed": false,
     "input": [
      "user1.gisdbase"
     ],
     "language": "python",
     "metadata": {},
     "outputs": []
    },
    {
     "cell_type": "code",
     "collapsed": false,
     "input": [
      "user1.location"
     ],
     "language": "python",
     "metadata": {},
     "outputs": []
    },
    {
     "cell_type": "code",
     "collapsed": false,
     "input": [
      "user1.name"
     ],
     "language": "python",
     "metadata": {},
     "outputs": []
    },
    {
     "cell_type": "code",
     "collapsed": false,
     "input": [
      "user1.glist('raster')"
     ],
     "language": "python",
     "metadata": {},
     "outputs": []
    },
    {
     "cell_type": "code",
     "collapsed": false,
     "input": [
      "%timeit Mapset('user1').glist('raster')"
     ],
     "language": "python",
     "metadata": {},
     "outputs": []
    },
    {
     "cell_type": "code",
     "collapsed": false,
     "input": [
      "from grass.script import core as gcore"
     ],
     "language": "python",
     "metadata": {},
     "outputs": []
    },
    {
     "cell_type": "code",
     "collapsed": false,
     "input": [
      "gcore.list_grouped('raster')['PERMANENT']"
     ],
     "language": "python",
     "metadata": {},
     "outputs": []
    },
    {
     "cell_type": "code",
     "collapsed": false,
     "input": [
      "%timeit gcore.list_grouped('raster')['PERMANENT']"
     ],
     "language": "python",
     "metadata": {},
     "outputs": []
    },
    {
     "cell_type": "code",
     "collapsed": false,
     "input": [
      "Mapset('PERMANENT').glist('raster', pattern='el*')"
     ],
     "language": "python",
     "metadata": {},
     "outputs": []
    },
    {
     "cell_type": "heading",
     "level": 1,
     "metadata": {},
     "source": [
      "Region"
     ]
    },
    {
     "cell_type": "markdown",
     "metadata": {},
     "source": [
      "The REGION may be the entire area or subset of the chosen LOCATION. **It is defined by northern, southern, eastern, and western bounds, as well as the raster grid resolution**. It is controlled by the <a href=\"http://grass.osgeo.org/grass70/manuals/g.region.html\">g.region</a> module and is of **primary importance for raster operations**\n",
      "\n",
      "More info about <a href=\"http://grass.osgeo.org/grass71/manuals/libpython/pygrass.gis.html#module-pygrass.gis.region\" target=\"_blank\">Region class</a>"
     ]
    },
    {
     "cell_type": "code",
     "collapsed": false,
     "input": [
      "from grass.pygrass.gis.region import Region"
     ],
     "language": "python",
     "metadata": {},
     "outputs": []
    },
    {
     "cell_type": "code",
     "collapsed": false,
     "input": [
      "reg = Region()\n",
      "reg"
     ],
     "language": "python",
     "metadata": {},
     "outputs": []
    },
    {
     "cell_type": "code",
     "collapsed": false,
     "input": [
      "reg.items()"
     ],
     "language": "python",
     "metadata": {},
     "outputs": []
    },
    {
     "cell_type": "code",
     "collapsed": false,
     "input": [
      "reg.north"
     ],
     "language": "python",
     "metadata": {},
     "outputs": []
    },
    {
     "cell_type": "code",
     "collapsed": false,
     "input": [
      "reg.ewres"
     ],
     "language": "python",
     "metadata": {},
     "outputs": []
    },
    {
     "cell_type": "code",
     "collapsed": false,
     "input": [
      "reg.get_bbox()"
     ],
     "language": "python",
     "metadata": {},
     "outputs": []
    },
    {
     "cell_type": "heading",
     "level": 1,
     "metadata": {},
     "source": [
      "Bbox"
     ]
    },
    {
     "cell_type": "markdown",
     "metadata": {},
     "source": [
      "Is a element of pygrass to create a Bounding Box, it use the <a href=\"http://grass.osgeo.org/programming7/structbound__box.html\" target=\"_blank\">bound_box GRASS GIS C structure</a>.\n",
      "\n",
      "More info about <a href=\"http://grass.osgeo.org/grass71/manuals/libpython/pygrass.vector.html#pygrass.vector.basic.Bbox\" target=\"_blank\">Bbox class</a>"
     ]
    },
    {
     "cell_type": "code",
     "collapsed": false,
     "input": [
      "from grass.pygrass.vector.basic import Bbox\n",
      "from grass.pygrass.vector.geometry import Point"
     ],
     "language": "python",
     "metadata": {},
     "outputs": []
    },
    {
     "cell_type": "code",
     "collapsed": false,
     "input": [
      "bbox = Bbox()"
     ],
     "language": "python",
     "metadata": {},
     "outputs": []
    },
    {
     "cell_type": "code",
     "collapsed": false,
     "input": [
      "bbox"
     ],
     "language": "python",
     "metadata": {},
     "outputs": []
    },
    {
     "cell_type": "code",
     "collapsed": false,
     "input": [
      "bbox.north = 10\n",
      "bbox.east = 10"
     ],
     "language": "python",
     "metadata": {},
     "outputs": []
    },
    {
     "cell_type": "code",
     "collapsed": false,
     "input": [
      "point = Point(5, 5)"
     ],
     "language": "python",
     "metadata": {},
     "outputs": []
    },
    {
     "cell_type": "code",
     "collapsed": false,
     "input": [
      "bbox.contains(point)"
     ],
     "language": "python",
     "metadata": {},
     "outputs": []
    },
    {
     "cell_type": "heading",
     "level": 1,
     "metadata": {},
     "source": [
      "Summary"
     ]
    },
    {
     "cell_type": "markdown",
     "metadata": {},
     "source": [
      "We have seen:\n",
      "\n",
      "* <a href=\"http://grass.osgeo.org/grass71/manuals/libpython/pygrass.gis.html#pygrass.gis.Gisdbase\" target=\"_blank\">GISDBASE</a>, <a href=\"http://grass.osgeo.org/grass71/manuals/libpython/pygrass.gis.html#pygrass.gis.Location\" target=\"_blank\">LOCATION</a> and <a href=\"http://grass.osgeo.org/grass71/manuals/libpython/pygrass.gis.html#pygrass.gis.Mapset\" target=\"_blank\">MAPSET</a> classes to work with the GRASS GIS file structure\n",
      "* <a href=\"http://grass.osgeo.org/grass71/manuals/libpython/pygrass.gis.html#module-pygrass.gis.region\" target=\"_blank\">REGION</a> element to obtain informations about GRASS GIS Region and work with it\n",
      "* <a href=\"http://grass.osgeo.org/grass71/manuals/libpython/pygrass.vector.html#pygrass.vector.basic.Bbox\" target=\"_blank\">BBOX</a> class to work with bounding box"
     ]
    }
   ],
   "metadata": {}
  }
 ]
}