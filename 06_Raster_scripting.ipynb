{
 "metadata": {
  "name": "",
  "signature": "sha256:04a050240a2c54bca9ddedd957290b20d47146de9c7dcc4ecd2ce85c16e6b7bc"
 },
 "nbformat": 3,
 "nbformat_minor": 0,
 "worksheets": [
  {
   "cells": [
    {
     "cell_type": "markdown",
     "metadata": {},
     "source": [
      "In this quick notebook we will use some functions of the scripting library to work with raster maps"
     ]
    },
    {
     "cell_type": "code",
     "collapsed": false,
     "input": [
      "from grass import script"
     ],
     "language": "python",
     "metadata": {},
     "outputs": []
    },
    {
     "cell_type": "code",
     "collapsed": false,
     "input": [
      "MAP = 'elevation'\n",
      "POINT = [[640000, 228000]]"
     ],
     "language": "python",
     "metadata": {},
     "outputs": []
    },
    {
     "cell_type": "heading",
     "level": 1,
     "metadata": {},
     "source": [
      "Information"
     ]
    },
    {
     "cell_type": "markdown",
     "metadata": {},
     "source": [
      "Obtain information about the map"
     ]
    },
    {
     "cell_type": "code",
     "collapsed": false,
     "input": [
      "eleinfo = script.raster_info(MAP)\n",
      "print eleinfo"
     ],
     "language": "python",
     "metadata": {},
     "outputs": []
    },
    {
     "cell_type": "markdown",
     "metadata": {},
     "source": [
      "Or query the map on a point"
     ]
    },
    {
     "cell_type": "code",
     "collapsed": false,
     "input": [
      "script.raster_what(MAP, POINT)"
     ],
     "language": "python",
     "metadata": {},
     "outputs": []
    },
    {
     "cell_type": "heading",
     "level": 1,
     "metadata": {},
     "source": [
      "Map algebra"
     ]
    },
    {
     "cell_type": "markdown",
     "metadata": {},
     "source": [
      "We can execute any kind of *map algebra analysis* using an interface to <a href=\"http://grass.osgeo.org/grass70/manuals/r.mapcalc.html\" target=\"_blank\">r.mapcalc</a> module"
     ]
    },
    {
     "cell_type": "code",
     "collapsed": false,
     "input": [
      "script.mapcalc(\"elevation100 = if(elevation > 100, elevation, null())\")"
     ],
     "language": "python",
     "metadata": {},
     "outputs": []
    },
    {
     "cell_type": "markdown",
     "metadata": {},
     "source": [
      "Now check the result: the maximum should be the same of original map and the minimum should be 100"
     ]
    },
    {
     "cell_type": "code",
     "collapsed": false,
     "input": [
      "newinfo = script.raster_info(\"elevation100\")\n",
      "if eleinfo['max'] == newinfo['max'] and newinfo['min'] == 100:\n",
      "    print \"Succeded\"\n",
      "else:\n",
      "    print \"Failed\""
     ],
     "language": "python",
     "metadata": {},
     "outputs": []
    },
    {
     "cell_type": "heading",
     "level": 1,
     "metadata": {},
     "source": [
      "Other modules"
     ]
    },
    {
     "cell_type": "markdown",
     "metadata": {},
     "source": [
      "Is it possible to run all the modules with the following functions"
     ]
    },
    {
     "cell_type": "code",
     "collapsed": false,
     "input": [
      "from grass.pygrass.utils import looking\n",
      "\n",
      "looking(script, '*command*')"
     ],
     "language": "python",
     "metadata": {},
     "outputs": []
    },
    {
     "cell_type": "markdown",
     "metadata": {},
     "source": [
      "**You can see some examples of these functions in the Modules notebook**.\n",
      "\n",
      "Read more about about these functions on the <a href=\"http://grass.osgeo.org/grass71/manuals/libpython/script.html#module-script.core\" target=\"_blank\">classes documentations</a> or in the <a href=\"http://grasswiki.osgeo.org/wiki/Python#Python_Scripting_Library\" target=\"_blank\">wiki page</a>"
     ]
    }
   ],
   "metadata": {}
  }
 ]
}